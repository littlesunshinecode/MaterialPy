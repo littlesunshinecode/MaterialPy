{
  "nbformat": 4,
  "nbformat_minor": 0,
  "metadata": {
    "colab": {
      "provenance": [],
      "authorship_tag": "ABX9TyOV+mKXtDDzlybePfVVKxyU",
      "include_colab_link": true
    },
    "kernelspec": {
      "name": "python3",
      "display_name": "Python 3"
    },
    "language_info": {
      "name": "python"
    }
  },
  "cells": [
    {
      "cell_type": "markdown",
      "metadata": {
        "id": "view-in-github",
        "colab_type": "text"
      },
      "source": [
        "<a href=\"https://colab.research.google.com/github/littlesunshinecode/MaterialPy/blob/main/par_%C3%ADmpar_verify_v1.ipynb\" target=\"_parent\"><img src=\"https://colab.research.google.com/assets/colab-badge.svg\" alt=\"Open In Colab\"/></a>"
      ]
    },
    {
      "cell_type": "code",
      "execution_count": null,
      "metadata": {
        "id": "L5CY3fH14tuL"
      },
      "outputs": [],
      "source": [
        "# Faça um programa que peça ao usuário para digitar um número inteiro.\n",
        "# Informe se o número é par ou ímpar.\n",
        "# Caso o usuário não digiar um número inteiro, informe-o sobre o erro.\n",
        "\n",
        "# Versão 1 (if/else com formatação da variável de string(recebido) para numérico\n",
        "# usando .isdigit() e depois validando como inteiro usando var = int(var)\n",
        "\n",
        "entrada = input('Digite um número inteiro: ')\n",
        "\n",
        "if entrada.isdigit():\n",
        "  entrada_int = int(entrada)\n",
        "  par_impar = entrada_int % 2 == 0\n",
        "  par_impar_texto = 'ímpar'\n",
        "  if par_impar:\n",
        "    par_impar_texto = 'par'\n",
        "  print(f'O número {entrada_int} é {par_impar_texto}')\n",
        "  \n",
        "else:\n",
        "  print('Você não digitou um número inteiro')"
      ]
    }
  ]
}
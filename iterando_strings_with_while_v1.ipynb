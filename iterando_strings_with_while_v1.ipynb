{
  "nbformat": 4,
  "nbformat_minor": 0,
  "metadata": {
    "colab": {
      "provenance": [],
      "authorship_tag": "ABX9TyO5yJZ+JlvfcJJZOVCm7nYy",
      "include_colab_link": true
    },
    "kernelspec": {
      "name": "python3",
      "display_name": "Python 3"
    },
    "language_info": {
      "name": "python"
    }
  },
  "cells": [
    {
      "cell_type": "markdown",
      "metadata": {
        "id": "view-in-github",
        "colab_type": "text"
      },
      "source": [
        "<a href=\"https://colab.research.google.com/github/littlesunshinecode/MaterialPy/blob/main/iterando_strings_with_while_v1.ipynb\" target=\"_parent\"><img src=\"https://colab.research.google.com/assets/colab-badge.svg\" alt=\"Open In Colab\"/></a>"
      ]
    },
    {
      "cell_type": "code",
      "execution_count": 2,
      "metadata": {
        "colab": {
          "base_uri": "https://localhost:8080/"
        },
        "id": "NwWSzbNXoRSa",
        "outputId": "ca0b87e4-5aee-46d3-9a99-4f2db7b334a7"
      },
      "outputs": [
        {
          "output_type": "stream",
          "name": "stdout",
          "text": [
            "*J*o*ã*o* *P*e*d*r*o*\n"
          ]
        }
      ],
      "source": [
        "# Iterando strings com while e adicionando '*' antes e depois de cada letra  do nome\n",
        "#   +   12345678910\n",
        "nome = 'João Pedro'  #Iteráveis\n",
        "#   -   10987654321\n",
        "novo_nome = ''\n",
        "indice = 0\n",
        "\n",
        "while indice < len(nome):\n",
        "  letra = nome[indice]\n",
        "  novo_nome += f'*{letra}'\n",
        "  indice += 1\n",
        "\n",
        "novo_nome += '*'\n",
        "print(novo_nome)"
      ]
    }
  ]
}
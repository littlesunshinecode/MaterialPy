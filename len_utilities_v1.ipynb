{
  "nbformat": 4,
  "nbformat_minor": 0,
  "metadata": {
    "colab": {
      "provenance": [],
      "authorship_tag": "ABX9TyM2LlIGQFlPomZR1ogKGPAK",
      "include_colab_link": true
    },
    "kernelspec": {
      "name": "python3",
      "display_name": "Python 3"
    },
    "language_info": {
      "name": "python"
    }
  },
  "cells": [
    {
      "cell_type": "markdown",
      "metadata": {
        "id": "view-in-github",
        "colab_type": "text"
      },
      "source": [
        "<a href=\"https://colab.research.google.com/github/littlesunshinecode/MaterialPy/blob/main/len_utilities_v1.ipynb\" target=\"_parent\"><img src=\"https://colab.research.google.com/assets/colab-badge.svg\" alt=\"Open In Colab\"/></a>"
      ]
    },
    {
      "cell_type": "code",
      "execution_count": null,
      "metadata": {
        "id": "7Kd1apl1GeU9"
      },
      "outputs": [],
      "source": [
        "# Faça um programa que peça o primeiro nome do usuário. Se o nome tiver 4\n",
        "# letras ou menos, escreva \"seu nome é curto\"; se tiver entre 5 e 6 letras,\n",
        "# escreva \"Seu nome é normal\"; maior que 6 escreva \"Seu nome é muito grande\"\n",
        "\n",
        "nome = input('Digite seu primeiro nome: ')\n",
        "tamanho_nome = len(nome)\n",
        "\n",
        "if tamanho_nome > 1:\n",
        "  if tamanho_nome <= 4:\n",
        "    print('Seu nome é curto.')\n",
        "  elif tamanho_nome >= 5 and tamanho_nome <= 6:\n",
        "    print('Seu nome é normal.')\n",
        "  else:\n",
        "    print('Seu nome é muito grande.')\n",
        "else: \n",
        "  print('Por favor, insira seu primeiro nome sem abreviações!')\n",
        "\n"
      ]
    }
  ]
}
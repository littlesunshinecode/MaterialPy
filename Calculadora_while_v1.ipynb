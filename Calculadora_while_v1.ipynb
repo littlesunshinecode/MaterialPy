{
  "nbformat": 4,
  "nbformat_minor": 0,
  "metadata": {
    "colab": {
      "provenance": [],
      "authorship_tag": "ABX9TyNJDacXvpTLjswpddL7HOyj",
      "include_colab_link": true
    },
    "kernelspec": {
      "name": "python3",
      "display_name": "Python 3"
    },
    "language_info": {
      "name": "python"
    }
  },
  "cells": [
    {
      "cell_type": "markdown",
      "metadata": {
        "id": "view-in-github",
        "colab_type": "text"
      },
      "source": [
        "<a href=\"https://colab.research.google.com/github/littlesunshinecode/MaterialPy/blob/main/Calculadora_while_v1.ipynb\" target=\"_parent\"><img src=\"https://colab.research.google.com/assets/colab-badge.svg\" alt=\"Open In Colab\"/></a>"
      ]
    },
    {
      "cell_type": "code",
      "source": [],
      "metadata": {
        "id": "DSiJM3eNVhe4"
      },
      "execution_count": null,
      "outputs": []
    },
    {
      "cell_type": "code",
      "execution_count": null,
      "metadata": {
        "colab": {
          "base_uri": "https://localhost:8080/"
        },
        "id": "MaBHb7qqw5-V",
        "outputId": "749b7600-2ea0-406c-f6f6-fa5e3d03c295"
      },
      "outputs": [
        {
          "output_type": "stream",
          "name": "stdout",
          "text": [
            "Enter one number: 1\n",
            "Enter another one: 5\n",
            "Chose an operator (+-/*): +\n",
            "\n",
            "Operation result\n",
            "1.0 + 5.0 =  6.0\n",
            "\n",
            "Wanna quit? [y/n]: yes\n",
            "See you later :D\n"
          ]
        }
      ],
      "source": [
        "#\"Calculadora\" while\n",
        "\n",
        "while True:\n",
        "  num1 = input('Enter one number: ')\n",
        "  num2 = input('Enter another one: ')\n",
        "  operator = input('Chose an operator (+-/*): ')\n",
        "  print()\n",
        "\n",
        "  valid_operators = '+-/*'\n",
        "  valid_nums = None\n",
        "  \n",
        "  float_n1 = 0\n",
        "  float_n2 = 0\n",
        "\n",
        "  try:\n",
        "    float_n1 = float(num1)\n",
        "    float_n2 = float(num2)\n",
        "    valid_nums = True \n",
        "\n",
        "  except:\n",
        "    valid_nums = None\n",
        "    print('Enter only valid numbers')\n",
        "    continue\n",
        "\n",
        "  if operator not in valid_operators:\n",
        "    print('Invalid operator.')\n",
        "    continue\n",
        "\n",
        "  if len(operator) > 1:\n",
        "    print('Only one operator each time, pls.')\n",
        "    continue\n",
        "\n",
        "  print('Operation result')\n",
        "  if operator == '+':\n",
        "    print(f'{float_n1} + {float_n2} = ', float_n1 + float_n2)\n",
        "    print()\n",
        "\n",
        "  elif operator == '-':\n",
        "    print(f'{float_n1} - {float_n2} = ', float_n1 - float_n2)\n",
        "    print()\n",
        "\n",
        "  elif operator == '/':\n",
        "    print(f'{float_n1} / {float_n2} = ', float_n1 / float_n2)\n",
        "    print()\n",
        "\n",
        "  elif operator == '*':  \n",
        "    print(f'{float_n1} * {float_n2} = ', float_n1 * float_n2)\n",
        "    print()\n",
        "    \n",
        "  sair = input('Wanna quit? [y/n]: ').lower().startswith('s' and 'y')\n",
        "\n",
        "  if sair is True:\n",
        "    print('See you later :D')\n",
        "    break\n",
        "\n",
        "  else:\n",
        "    continue\n",
        "    print()\n",
        "\n",
        "\n",
        "\n",
        "\n",
        "\n",
        "\n",
        "\n",
        "\n",
        "\n",
        "\n",
        "\n",
        "\n"
      ]
    }
  ]
}
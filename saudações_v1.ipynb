{
  "nbformat": 4,
  "nbformat_minor": 0,
  "metadata": {
    "colab": {
      "provenance": [],
      "authorship_tag": "ABX9TyPbgVt02Rwu2IsEPtF1SZWL",
      "include_colab_link": true
    },
    "kernelspec": {
      "name": "python3",
      "display_name": "Python 3"
    },
    "language_info": {
      "name": "python"
    }
  },
  "cells": [
    {
      "cell_type": "markdown",
      "metadata": {
        "id": "view-in-github",
        "colab_type": "text"
      },
      "source": [
        "<a href=\"https://colab.research.google.com/github/littlesunshinecode/MaterialPy/blob/main/sauda%C3%A7%C3%B5es_v1.ipynb\" target=\"_parent\"><img src=\"https://colab.research.google.com/assets/colab-badge.svg\" alt=\"Open In Colab\"/></a>"
      ]
    },
    {
      "cell_type": "code",
      "execution_count": 2,
      "metadata": {
        "colab": {
          "base_uri": "https://localhost:8080/"
        },
        "id": "xWsraX7ehNMu",
        "outputId": "bc96f122-1ca4-4009-c89b-271eb2d5419f"
      },
      "outputs": [
        {
          "output_type": "stream",
          "name": "stdout",
          "text": [
            "Your name, please: Jota\n",
            "Hello Jota, what time it is? 23\n",
            "Good night Jota!\n"
          ]
        }
      ],
      "source": [
        "#Faça um programa que pergunte a hora ao usuário e retorne a saudação adequada.\n",
        "#Bom dia 0-11, Boa tarde 12-17 e Boa noite 18-24.\n",
        "\n",
        "name = input('Your name, please: ')\n",
        "horario = input(f'Hello {name}, what time it is? ')\n",
        "\n",
        "try:\n",
        "  hora = int(horario)\n",
        "\n",
        "  if hora >= 0 and hora <= 11:\n",
        "    print(f'Good morning {name}')\n",
        "\n",
        "  elif hora >= 12 and hora <= 17:\n",
        "    print(f'Good afternoon {name}!')\n",
        "\n",
        "  elif hora >= 18 and hora <= 23:\n",
        "    print(f'Good night {name}!')\n",
        "  else:\n",
        "    print(f\"I don't understand this hour {name}!\")\n",
        "\n",
        "\n",
        "except:\n",
        "  print(f'Pleas {name}, enter integer numbers only')\n",
        "  "
      ]
    }
  ]
}